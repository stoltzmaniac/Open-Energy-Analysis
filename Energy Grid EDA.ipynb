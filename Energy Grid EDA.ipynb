{
 "cells": [
  {
   "cell_type": "code",
   "execution_count": 2,
   "metadata": {},
   "outputs": [],
   "source": [
    "from pyiso import client_factory"
   ]
  },
  {
   "cell_type": "code",
   "execution_count": 5,
   "metadata": {},
   "outputs": [],
   "source": [
    "# Now you can connect to ISO's (Independent System Operators)\n",
    "# You will access it through the balancing authorities\n",
    "# Certain usage will require tokens, available by going to watttime.org\n",
    "#creds_df = pd.read_json('creds.json')\n",
    "#token = creds_df.token[0]\n",
    "bpa = client_factory('BPA') # Bonneville Power Administration (Pac NW)"
   ]
  },
  {
   "cell_type": "code",
   "execution_count": 6,
   "metadata": {},
   "outputs": [
    {
     "data": {
      "text/plain": [
       "list"
      ]
     },
     "execution_count": 6,
     "metadata": {},
     "output_type": "execute_result"
    }
   ],
   "source": [
    "# Get generation data:\n",
    "bpa_gen = bpa.get_generation(yesterday=True)\n",
    "type(bpa_gen)"
   ]
  },
  {
   "cell_type": "code",
   "execution_count": 7,
   "metadata": {},
   "outputs": [
    {
     "data": {
      "text/plain": [
       "[{'ba_name': 'BPA',\n",
       "  'freq': '5m',\n",
       "  'fuel_name': 'wind',\n",
       "  'gen_MW': 1049.0,\n",
       "  'market': 'RT5M',\n",
       "  'timestamp': Timestamp('2018-05-07 07:00:00+0000', tz='UTC')},\n",
       " {'ba_name': 'BPA',\n",
       "  'freq': '5m',\n",
       "  'fuel_name': 'hydro',\n",
       "  'gen_MW': 11892.0,\n",
       "  'market': 'RT5M',\n",
       "  'timestamp': Timestamp('2018-05-07 07:00:00+0000', tz='UTC')},\n",
       " {'ba_name': 'BPA',\n",
       "  'freq': '5m',\n",
       "  'fuel_name': 'biomass',\n",
       "  'gen_MW': 162.0,\n",
       "  'market': 'RT5M',\n",
       "  'timestamp': Timestamp('2018-05-07 07:00:00+0000', tz='UTC')}]"
      ]
     },
     "execution_count": 7,
     "metadata": {},
     "output_type": "execute_result"
    }
   ],
   "source": [
    "# Print the response data (limited)\n",
    "bpa_gen[0:3]"
   ]
  },
  {
   "cell_type": "code",
   "execution_count": 8,
   "metadata": {},
   "outputs": [],
   "source": [
    "# You want to parse yout fuel and energy as lists\n",
    "fuel,energy = map(list,zip(*[(i['fuel_name'], i['gen_MW']) for i in bpa_gen]))"
   ]
  },
  {
   "cell_type": "code",
   "execution_count": 9,
   "metadata": {},
   "outputs": [
    {
     "data": {
      "text/plain": [
       "['wind', 'hydro', 'biomass', 'wind', 'hydro']"
      ]
     },
     "execution_count": 9,
     "metadata": {},
     "output_type": "execute_result"
    }
   ],
   "source": [
    "fuel[0:5]"
   ]
  },
  {
   "cell_type": "code",
   "execution_count": 10,
   "metadata": {},
   "outputs": [
    {
     "data": {
      "text/plain": [
       "[1049.0, 11892.0, 162.0, 884.0, 12189.0]"
      ]
     },
     "execution_count": 10,
     "metadata": {},
     "output_type": "execute_result"
    }
   ],
   "source": [
    "energy[0:5]"
   ]
  },
  {
   "cell_type": "code",
   "execution_count": 11,
   "metadata": {},
   "outputs": [
    {
     "data": {
      "text/html": [
       "<div>\n",
       "<style scoped>\n",
       "    .dataframe tbody tr th:only-of-type {\n",
       "        vertical-align: middle;\n",
       "    }\n",
       "\n",
       "    .dataframe tbody tr th {\n",
       "        vertical-align: top;\n",
       "    }\n",
       "\n",
       "    .dataframe thead th {\n",
       "        text-align: right;\n",
       "    }\n",
       "</style>\n",
       "<table border=\"1\" class=\"dataframe\">\n",
       "  <thead>\n",
       "    <tr style=\"text-align: right;\">\n",
       "      <th></th>\n",
       "      <th>ba_name</th>\n",
       "      <th>freq</th>\n",
       "      <th>fuel_name</th>\n",
       "      <th>gen_MW</th>\n",
       "      <th>market</th>\n",
       "      <th>timestamp</th>\n",
       "    </tr>\n",
       "  </thead>\n",
       "  <tbody>\n",
       "    <tr>\n",
       "      <th>0</th>\n",
       "      <td>BPA</td>\n",
       "      <td>5m</td>\n",
       "      <td>wind</td>\n",
       "      <td>1049.0</td>\n",
       "      <td>RT5M</td>\n",
       "      <td>2018-05-07 07:00:00+00:00</td>\n",
       "    </tr>\n",
       "    <tr>\n",
       "      <th>1</th>\n",
       "      <td>BPA</td>\n",
       "      <td>5m</td>\n",
       "      <td>hydro</td>\n",
       "      <td>11892.0</td>\n",
       "      <td>RT5M</td>\n",
       "      <td>2018-05-07 07:00:00+00:00</td>\n",
       "    </tr>\n",
       "    <tr>\n",
       "      <th>2</th>\n",
       "      <td>BPA</td>\n",
       "      <td>5m</td>\n",
       "      <td>biomass</td>\n",
       "      <td>162.0</td>\n",
       "      <td>RT5M</td>\n",
       "      <td>2018-05-07 07:00:00+00:00</td>\n",
       "    </tr>\n",
       "    <tr>\n",
       "      <th>3</th>\n",
       "      <td>BPA</td>\n",
       "      <td>5m</td>\n",
       "      <td>wind</td>\n",
       "      <td>884.0</td>\n",
       "      <td>RT5M</td>\n",
       "      <td>2018-05-07 07:05:00+00:00</td>\n",
       "    </tr>\n",
       "    <tr>\n",
       "      <th>4</th>\n",
       "      <td>BPA</td>\n",
       "      <td>5m</td>\n",
       "      <td>hydro</td>\n",
       "      <td>12189.0</td>\n",
       "      <td>RT5M</td>\n",
       "      <td>2018-05-07 07:05:00+00:00</td>\n",
       "    </tr>\n",
       "  </tbody>\n",
       "</table>\n",
       "</div>"
      ],
      "text/plain": [
       "  ba_name freq fuel_name   gen_MW market                 timestamp\n",
       "0     BPA   5m      wind   1049.0   RT5M 2018-05-07 07:00:00+00:00\n",
       "1     BPA   5m     hydro  11892.0   RT5M 2018-05-07 07:00:00+00:00\n",
       "2     BPA   5m   biomass    162.0   RT5M 2018-05-07 07:00:00+00:00\n",
       "3     BPA   5m      wind    884.0   RT5M 2018-05-07 07:05:00+00:00\n",
       "4     BPA   5m     hydro  12189.0   RT5M 2018-05-07 07:05:00+00:00"
      ]
     },
     "execution_count": 11,
     "metadata": {},
     "output_type": "execute_result"
    }
   ],
   "source": [
    "# You realize that's a complete pain in the ___\n",
    "import pandas as pd\n",
    "\n",
    "bpa_gen_df = pd.DataFrame(bpa_gen)\n",
    "bpa_gen_df.head()"
   ]
  },
  {
   "cell_type": "code",
   "execution_count": 12,
   "metadata": {},
   "outputs": [
    {
     "data": {
      "text/plain": [
       "array(['wind', 'hydro', 'biomass'], dtype=object)"
      ]
     },
     "execution_count": 12,
     "metadata": {},
     "output_type": "execute_result"
    }
   ],
   "source": [
    "bpa_gen_df['fuel_name'].unique()"
   ]
  },
  {
   "cell_type": "code",
   "execution_count": 13,
   "metadata": {},
   "outputs": [],
   "source": [
    "# You want to plot inline (specific to Jupyter Notebooks)\n",
    "%matplotlib inline"
   ]
  },
  {
   "cell_type": "code",
   "execution_count": 14,
   "metadata": {},
   "outputs": [
    {
     "data": {
      "text/plain": [
       "<matplotlib.axes._subplots.AxesSubplot at 0x1143e6208>"
      ]
     },
     "execution_count": 14,
     "metadata": {},
     "output_type": "execute_result"
    },
    {
     "data": {
      "image/png": "[encoded data removed]",
      "text/plain": [
       "<Figure size 432x288 with 1 Axes>"
      ]
     },
     "metadata": {},
     "output_type": "display_data"
    }
   ],
   "source": [
    "# You plot it out\n",
    "bpa_gen_df.plot.line(x='timestamp',y='gen_MW')"
   ]
  },
  {
   "cell_type": "code",
   "execution_count": 15,
   "metadata": {},
   "outputs": [
    {
     "data": {
      "text/plain": [
       "<matplotlib.axes._subplots.AxesSubplot at 0x1144d42b0>"
      ]
     },
     "execution_count": 15,
     "metadata": {},
     "output_type": "execute_result"
    },
    {
     "data": {
      "image/png": "[encoded data removed]",
      "text/plain": [
       "<Figure size 432x288 with 1 Axes>"
      ]
     },
     "metadata": {},
     "output_type": "display_data"
    }
   ],
   "source": [
    "bpa_gen_df.groupby('timestamp', as_index = False).sum().plot.line('timestamp','gen_MW')"
   ]
  },
  {
   "cell_type": "code",
   "execution_count": 16,
   "metadata": {},
   "outputs": [
    {
     "name": "stderr",
     "output_type": "stream",
     "text": [
      "/Users/stoltzmanconsulting/anaconda3/lib/python3.6/site-packages/statsmodels/compat/pandas.py:56: FutureWarning: The pandas.core.datetools module is deprecated and will be removed in a future version. Please use the pandas.tseries module instead.\n",
      "  from pandas.core import datetools\n"
     ]
    }
   ],
   "source": [
    "# You want some more options in your plots\n",
    "import plotnine as pn"
   ]
  },
  {
   "cell_type": "code",
   "execution_count": 17,
   "metadata": {},
   "outputs": [
    {
     "data": {
      "image/png": "[encoded data removed]",
      "text/plain": [
       "<Figure size 640x480 with 1 Axes>"
      ]
     },
     "metadata": {},
     "output_type": "display_data"
    },
    {
     "data": {
      "text/plain": [
       "<ggplot: (-9223372036561993703)>"
      ]
     },
     "execution_count": 17,
     "metadata": {},
     "output_type": "execute_result"
    }
   ],
   "source": [
    "(pn.ggplot(bpa_gen_df, pn.aes('timestamp','gen_MW', color='fuel_name'))) + pn.geom_line()"
   ]
  },
  {
   "cell_type": "code",
   "execution_count": 44,
   "metadata": {},
   "outputs": [
    {
     "data": {
      "text/html": [
       "<div>\n",
       "<style scoped>\n",
       "    .dataframe tbody tr th:only-of-type {\n",
       "        vertical-align: middle;\n",
       "    }\n",
       "\n",
       "    .dataframe tbody tr th {\n",
       "        vertical-align: top;\n",
       "    }\n",
       "\n",
       "    .dataframe thead th {\n",
       "        text-align: right;\n",
       "    }\n",
       "</style>\n",
       "<table border=\"1\" class=\"dataframe\">\n",
       "  <thead>\n",
       "    <tr style=\"text-align: right;\">\n",
       "      <th></th>\n",
       "      <th>gen_MW</th>\n",
       "    </tr>\n",
       "    <tr>\n",
       "      <th>fuel_name</th>\n",
       "      <th></th>\n",
       "    </tr>\n",
       "  </thead>\n",
       "  <tbody>\n",
       "    <tr>\n",
       "      <th>biomass</th>\n",
       "      <td>52454.0</td>\n",
       "    </tr>\n",
       "    <tr>\n",
       "      <th>hydro</th>\n",
       "      <td>3524350.0</td>\n",
       "    </tr>\n",
       "    <tr>\n",
       "      <th>wind</th>\n",
       "      <td>150406.0</td>\n",
       "    </tr>\n",
       "  </tbody>\n",
       "</table>\n",
       "</div>"
      ],
      "text/plain": [
       "              gen_MW\n",
       "fuel_name           \n",
       "biomass      52454.0\n",
       "hydro      3524350.0\n",
       "wind        150406.0"
      ]
     },
     "execution_count": 44,
     "metadata": {},
     "output_type": "execute_result"
    }
   ],
   "source": [
    "bpa_gen_df.groupby('fuel_name').sum()"
   ]
  },
  {
   "cell_type": "code",
   "execution_count": 53,
   "metadata": {},
   "outputs": [
    {
     "data": {
      "text/html": [
       "<div>\n",
       "<style scoped>\n",
       "    .dataframe tbody tr th:only-of-type {\n",
       "        vertical-align: middle;\n",
       "    }\n",
       "\n",
       "    .dataframe tbody tr th {\n",
       "        vertical-align: top;\n",
       "    }\n",
       "\n",
       "    .dataframe thead th {\n",
       "        text-align: right;\n",
       "    }\n",
       "</style>\n",
       "<table border=\"1\" class=\"dataframe\">\n",
       "  <thead>\n",
       "    <tr style=\"text-align: right;\">\n",
       "      <th></th>\n",
       "      <th>fuel_name</th>\n",
       "      <th>gen_MW</th>\n",
       "      <th>PCT</th>\n",
       "    </tr>\n",
       "  </thead>\n",
       "  <tbody>\n",
       "    <tr>\n",
       "      <th>0</th>\n",
       "      <td>biomass</td>\n",
       "      <td>52454.0</td>\n",
       "      <td>1.407326</td>\n",
       "    </tr>\n",
       "    <tr>\n",
       "      <th>1</th>\n",
       "      <td>hydro</td>\n",
       "      <td>3524350.0</td>\n",
       "      <td>94.557323</td>\n",
       "    </tr>\n",
       "    <tr>\n",
       "      <th>2</th>\n",
       "      <td>wind</td>\n",
       "      <td>150406.0</td>\n",
       "      <td>4.035351</td>\n",
       "    </tr>\n",
       "  </tbody>\n",
       "</table>\n",
       "</div>"
      ],
      "text/plain": [
       "  fuel_name     gen_MW        PCT\n",
       "0   biomass    52454.0   1.407326\n",
       "1     hydro  3524350.0  94.557323\n",
       "2      wind   150406.0   4.035351"
      ]
     },
     "execution_count": 53,
     "metadata": {},
     "output_type": "execute_result"
    }
   ],
   "source": [
    "bpa1 = bpa_gen_df.groupby('fuel_name').sum().reset_index()\n",
    "bpa1['PCT'] = 100*bpa1['gen_MW'] / bpa1['gen_MW'].sum()\n",
    "bpa1.head()"
   ]
  },
  {
   "cell_type": "code",
   "execution_count": 18,
   "metadata": {},
   "outputs": [
    {
     "ename": "ValueError",
     "evalue": "No client found for name PSCO",
     "output_type": "error",
     "traceback": [
      "\u001b[0;31m---------------------------------------------------------------------------\u001b[0m",
      "\u001b[0;31mKeyError\u001b[0m                                  Traceback (most recent call last)",
      "\u001b[0;32m~/anaconda3/lib/python3.6/site-packages/pyiso/__init__.py\u001b[0m in \u001b[0;36mclient_factory\u001b[0;34m(client_name, **kwargs)\u001b[0m\n\u001b[1;32m     62\u001b[0m     \u001b[0;32mtry\u001b[0m\u001b[0;34m:\u001b[0m\u001b[0;34m\u001b[0m\u001b[0m\n\u001b[0;32m---> 63\u001b[0;31m         \u001b[0mclient_vals\u001b[0m \u001b[0;34m=\u001b[0m \u001b[0mBALANCING_AUTHORITIES\u001b[0m\u001b[0;34m[\u001b[0m\u001b[0mclient_key\u001b[0m\u001b[0;34m]\u001b[0m\u001b[0;34m\u001b[0m\u001b[0m\n\u001b[0m\u001b[1;32m     64\u001b[0m         \u001b[0mmodule_name\u001b[0m \u001b[0;34m=\u001b[0m \u001b[0mclient_vals\u001b[0m\u001b[0;34m[\u001b[0m\u001b[0;34m'module'\u001b[0m\u001b[0;34m]\u001b[0m\u001b[0;34m\u001b[0m\u001b[0m\n",
      "\u001b[0;31mKeyError\u001b[0m: 'PSCO'",
      "\nDuring handling of the above exception, another exception occurred:\n",
      "\u001b[0;31mValueError\u001b[0m                                Traceback (most recent call last)",
      "\u001b[0;32m<ipython-input-18-4dbc39bf049a>\u001b[0m in \u001b[0;36m<module>\u001b[0;34m()\u001b[0m\n\u001b[1;32m      1\u001b[0m \u001b[0;31m# So that's pretty sweet - but what if you want more than just BPA?\u001b[0m\u001b[0;34m\u001b[0m\u001b[0;34m\u001b[0m\u001b[0m\n\u001b[1;32m      2\u001b[0m \u001b[0;31m# You know Colorado is PSCO\u001b[0m\u001b[0;34m\u001b[0m\u001b[0;34m\u001b[0m\u001b[0m\n\u001b[0;32m----> 3\u001b[0;31m \u001b[0mpsco\u001b[0m \u001b[0;34m=\u001b[0m \u001b[0mclient_factory\u001b[0m\u001b[0;34m(\u001b[0m\u001b[0;34m'PSCO'\u001b[0m\u001b[0;34m)\u001b[0m\u001b[0;34m\u001b[0m\u001b[0m\n\u001b[0m",
      "\u001b[0;32m~/anaconda3/lib/python3.6/site-packages/pyiso/__init__.py\u001b[0m in \u001b[0;36mclient_factory\u001b[0;34m(client_name, **kwargs)\u001b[0m\n\u001b[1;32m     66\u001b[0m         \u001b[0mclass_name\u001b[0m \u001b[0;34m=\u001b[0m \u001b[0mclient_vals\u001b[0m\u001b[0;34m[\u001b[0m\u001b[0;34m'class'\u001b[0m\u001b[0;34m]\u001b[0m\u001b[0;34m\u001b[0m\u001b[0m\n\u001b[1;32m     67\u001b[0m     \u001b[0;32mexcept\u001b[0m \u001b[0mKeyError\u001b[0m\u001b[0;34m:\u001b[0m\u001b[0;34m\u001b[0m\u001b[0m\n\u001b[0;32m---> 68\u001b[0;31m         \u001b[0;32mraise\u001b[0m \u001b[0mValueError\u001b[0m\u001b[0;34m(\u001b[0m\u001b[0merror_msg\u001b[0m\u001b[0;34m)\u001b[0m\u001b[0;34m\u001b[0m\u001b[0m\n\u001b[0m\u001b[1;32m     69\u001b[0m \u001b[0;34m\u001b[0m\u001b[0m\n\u001b[1;32m     70\u001b[0m     \u001b[0;31m# find module\u001b[0m\u001b[0;34m\u001b[0m\u001b[0;34m\u001b[0m\u001b[0m\n",
      "\u001b[0;31mValueError\u001b[0m: No client found for name PSCO"
     ]
    }
   ],
   "source": [
    "# So that's pretty sweet - but what if you want more than just BPA?\n",
    "# You know Colorado is PSCO\n",
    "psco = client_factory('PSCO')"
   ]
  },
  {
   "cell_type": "code",
   "execution_count": 19,
   "metadata": {},
   "outputs": [],
   "source": [
    "## Huh?? said it's PSCO in the documentation???\n",
    "# Documents say you can access PSCO from within EIA\n",
    "client = client_factory('EIA')"
   ]
  },
  {
   "cell_type": "code",
   "execution_count": 20,
   "metadata": {},
   "outputs": [
    {
     "name": "stdout",
     "output_type": "stream",
     "text": [
      "Balancing authority not set.\n"
     ]
    },
    {
     "ename": "ValueError",
     "evalue": "Balancing authority not set.",
     "output_type": "error",
     "traceback": [
      "\u001b[0;31m---------------------------------------------------------------------------\u001b[0m",
      "\u001b[0;31mValueError\u001b[0m                                Traceback (most recent call last)",
      "\u001b[0;32m<ipython-input-20-f24f15fafe2a>\u001b[0m in \u001b[0;36m<module>\u001b[0;34m()\u001b[0m\n\u001b[0;32m----> 1\u001b[0;31m \u001b[0mpsco\u001b[0m \u001b[0;34m=\u001b[0m \u001b[0mclient\u001b[0m\u001b[0;34m.\u001b[0m\u001b[0mget_generation\u001b[0m\u001b[0;34m(\u001b[0m\u001b[0;34m'PSCO'\u001b[0m\u001b[0;34m)\u001b[0m\u001b[0;34m\u001b[0m\u001b[0m\n\u001b[0m",
      "\u001b[0;32m~/anaconda3/lib/python3.6/site-packages/pyiso/eia_esod.py\u001b[0m in \u001b[0;36mget_generation\u001b[0;34m(self, latest, yesterday, start_at, end_at, **kwargs)\u001b[0m\n\u001b[1;32m     73\u001b[0m \u001b[0;34m\u001b[0m\u001b[0m\n\u001b[1;32m     74\u001b[0m         self.handle_options(data='gen', latest=latest, yesterday=yesterday,\n\u001b[0;32m---> 75\u001b[0;31m                             start_at=start_at, end_at=end_at, **kwargs)\n\u001b[0m\u001b[1;32m     76\u001b[0m         \u001b[0mself\u001b[0m\u001b[0;34m.\u001b[0m\u001b[0mhandle_ba_limitations\u001b[0m\u001b[0;34m(\u001b[0m\u001b[0;34m)\u001b[0m\u001b[0;34m\u001b[0m\u001b[0m\n\u001b[1;32m     77\u001b[0m         \u001b[0mself\u001b[0m\u001b[0;34m.\u001b[0m\u001b[0mformat_url\u001b[0m\u001b[0;34m(\u001b[0m\u001b[0;34m)\u001b[0m\u001b[0;34m\u001b[0m\u001b[0m\n",
      "\u001b[0;32m~/anaconda3/lib/python3.6/site-packages/pyiso/eia_esod.py\u001b[0m in \u001b[0;36mhandle_options\u001b[0;34m(self, **kwargs)\u001b[0m\n\u001b[1;32m    131\u001b[0m         \u001b[0;32mif\u001b[0m \u001b[0;32mnot\u001b[0m \u001b[0mhasattr\u001b[0m\u001b[0;34m(\u001b[0m\u001b[0mself\u001b[0m\u001b[0;34m,\u001b[0m \u001b[0;34m'BA'\u001b[0m\u001b[0;34m)\u001b[0m\u001b[0;34m:\u001b[0m\u001b[0;34m\u001b[0m\u001b[0m\n\u001b[1;32m    132\u001b[0m             \u001b[0mLOGGER\u001b[0m\u001b[0;34m.\u001b[0m\u001b[0merror\u001b[0m\u001b[0;34m(\u001b[0m\u001b[0;34m'Balancing authority not set.'\u001b[0m\u001b[0;34m)\u001b[0m\u001b[0;34m\u001b[0m\u001b[0m\n\u001b[0;32m--> 133\u001b[0;31m             \u001b[0;32mraise\u001b[0m \u001b[0mValueError\u001b[0m\u001b[0;34m(\u001b[0m\u001b[0;34m'Balancing authority not set.'\u001b[0m\u001b[0;34m)\u001b[0m\u001b[0;34m\u001b[0m\u001b[0m\n\u001b[0m\u001b[1;32m    134\u001b[0m \u001b[0;34m\u001b[0m\u001b[0m\n\u001b[1;32m    135\u001b[0m         \u001b[0;32mif\u001b[0m \u001b[0;34m'market'\u001b[0m \u001b[0;32mnot\u001b[0m \u001b[0;32min\u001b[0m \u001b[0mself\u001b[0m\u001b[0;34m.\u001b[0m\u001b[0moptions\u001b[0m\u001b[0;34m:\u001b[0m\u001b[0;34m\u001b[0m\u001b[0m\n",
      "\u001b[0;31mValueError\u001b[0m: Balancing authority not set."
     ]
    }
   ],
   "source": [
    "psco = client.get_generation('PSCO')"
   ]
  },
  {
   "cell_type": "code",
   "execution_count": 24,
   "metadata": {},
   "outputs": [],
   "source": [
    "# Balancing authority... didn't we just set it by asking for PSCO??\n",
    "# In Python, modules (like classes) need parameters to be set\n",
    "# Check out:    http://pyiso.readthedocs.io/en/latest/pyiso.html\n",
    "client.set_ba('PSCO')\n",
    "psco_gen = client.get_generation(yesterday=True)\n",
    "psco_gen_df = pd.DataFrame(psco_gen)\n",
    "psco_gen_df.head()"
   ]
  },
  {
   "cell_type": "code",
   "execution_count": 26,
   "metadata": {},
   "outputs": [
    {
     "data": {
      "text/html": [
       "<div>\n",
       "<style scoped>\n",
       "    .dataframe tbody tr th:only-of-type {\n",
       "        vertical-align: middle;\n",
       "    }\n",
       "\n",
       "    .dataframe tbody tr th {\n",
       "        vertical-align: top;\n",
       "    }\n",
       "\n",
       "    .dataframe thead th {\n",
       "        text-align: right;\n",
       "    }\n",
       "</style>\n",
       "<table border=\"1\" class=\"dataframe\">\n",
       "  <thead>\n",
       "    <tr style=\"text-align: right;\">\n",
       "      <th></th>\n",
       "      <th>ba_name</th>\n",
       "      <th>freq</th>\n",
       "      <th>load_MW</th>\n",
       "      <th>market</th>\n",
       "      <th>timestamp</th>\n",
       "    </tr>\n",
       "  </thead>\n",
       "  <tbody>\n",
       "    <tr>\n",
       "      <th>0</th>\n",
       "      <td>PSCO</td>\n",
       "      <td>1hr</td>\n",
       "      <td>4963</td>\n",
       "      <td>RTHR</td>\n",
       "      <td>2018-05-08 18:00:00+00:00</td>\n",
       "    </tr>\n",
       "    <tr>\n",
       "      <th>1</th>\n",
       "      <td>PSCO</td>\n",
       "      <td>1hr</td>\n",
       "      <td>4892</td>\n",
       "      <td>RTHR</td>\n",
       "      <td>2018-05-08 17:00:00+00:00</td>\n",
       "    </tr>\n",
       "    <tr>\n",
       "      <th>2</th>\n",
       "      <td>PSCO</td>\n",
       "      <td>1hr</td>\n",
       "      <td>4806</td>\n",
       "      <td>RTHR</td>\n",
       "      <td>2018-05-08 16:00:00+00:00</td>\n",
       "    </tr>\n",
       "    <tr>\n",
       "      <th>3</th>\n",
       "      <td>PSCO</td>\n",
       "      <td>1hr</td>\n",
       "      <td>4688</td>\n",
       "      <td>RTHR</td>\n",
       "      <td>2018-05-08 15:00:00+00:00</td>\n",
       "    </tr>\n",
       "    <tr>\n",
       "      <th>4</th>\n",
       "      <td>PSCO</td>\n",
       "      <td>1hr</td>\n",
       "      <td>4619</td>\n",
       "      <td>RTHR</td>\n",
       "      <td>2018-05-08 14:00:00+00:00</td>\n",
       "    </tr>\n",
       "  </tbody>\n",
       "</table>\n",
       "</div>"
      ],
      "text/plain": [
       "  ba_name freq  load_MW market                 timestamp\n",
       "0    PSCO  1hr     4963   RTHR 2018-05-08 18:00:00+00:00\n",
       "1    PSCO  1hr     4892   RTHR 2018-05-08 17:00:00+00:00\n",
       "2    PSCO  1hr     4806   RTHR 2018-05-08 16:00:00+00:00\n",
       "3    PSCO  1hr     4688   RTHR 2018-05-08 15:00:00+00:00\n",
       "4    PSCO  1hr     4619   RTHR 2018-05-08 14:00:00+00:00"
      ]
     },
     "execution_count": 26,
     "metadata": {},
     "output_type": "execute_result"
    }
   ],
   "source": [
    "# Load info\n",
    "psco_load= client.get_load(yesterday=True)\n",
    "psco_load_df = pd.DataFrame(psco_load)\n",
    "psco_load_df.head()"
   ]
  },
  {
   "cell_type": "code",
   "execution_count": 27,
   "metadata": {},
   "outputs": [
    {
     "data": {
      "text/html": [
       "<div>\n",
       "<style scoped>\n",
       "    .dataframe tbody tr th:only-of-type {\n",
       "        vertical-align: middle;\n",
       "    }\n",
       "\n",
       "    .dataframe tbody tr th {\n",
       "        vertical-align: top;\n",
       "    }\n",
       "\n",
       "    .dataframe thead th {\n",
       "        text-align: right;\n",
       "    }\n",
       "</style>\n",
       "<table border=\"1\" class=\"dataframe\">\n",
       "  <thead>\n",
       "    <tr style=\"text-align: right;\">\n",
       "      <th></th>\n",
       "      <th>ba_name</th>\n",
       "      <th>freq</th>\n",
       "      <th>market</th>\n",
       "      <th>net_exp_MW</th>\n",
       "      <th>timestamp</th>\n",
       "    </tr>\n",
       "  </thead>\n",
       "  <tbody>\n",
       "    <tr>\n",
       "      <th>0</th>\n",
       "      <td>PSCO</td>\n",
       "      <td>1hr</td>\n",
       "      <td>RTHR</td>\n",
       "      <td>-359</td>\n",
       "      <td>2018-05-07 23:00:00+00:00</td>\n",
       "    </tr>\n",
       "    <tr>\n",
       "      <th>1</th>\n",
       "      <td>PSCO</td>\n",
       "      <td>1hr</td>\n",
       "      <td>RTHR</td>\n",
       "      <td>-348</td>\n",
       "      <td>2018-05-07 22:00:00+00:00</td>\n",
       "    </tr>\n",
       "    <tr>\n",
       "      <th>2</th>\n",
       "      <td>PSCO</td>\n",
       "      <td>1hr</td>\n",
       "      <td>RTHR</td>\n",
       "      <td>-309</td>\n",
       "      <td>2018-05-07 21:00:00+00:00</td>\n",
       "    </tr>\n",
       "    <tr>\n",
       "      <th>3</th>\n",
       "      <td>PSCO</td>\n",
       "      <td>1hr</td>\n",
       "      <td>RTHR</td>\n",
       "      <td>-434</td>\n",
       "      <td>2018-05-07 20:00:00+00:00</td>\n",
       "    </tr>\n",
       "    <tr>\n",
       "      <th>4</th>\n",
       "      <td>PSCO</td>\n",
       "      <td>1hr</td>\n",
       "      <td>RTHR</td>\n",
       "      <td>-441</td>\n",
       "      <td>2018-05-07 19:00:00+00:00</td>\n",
       "    </tr>\n",
       "  </tbody>\n",
       "</table>\n",
       "</div>"
      ],
      "text/plain": [
       "  ba_name freq market  net_exp_MW                 timestamp\n",
       "0    PSCO  1hr   RTHR        -359 2018-05-07 23:00:00+00:00\n",
       "1    PSCO  1hr   RTHR        -348 2018-05-07 22:00:00+00:00\n",
       "2    PSCO  1hr   RTHR        -309 2018-05-07 21:00:00+00:00\n",
       "3    PSCO  1hr   RTHR        -434 2018-05-07 20:00:00+00:00\n",
       "4    PSCO  1hr   RTHR        -441 2018-05-07 19:00:00+00:00"
      ]
     },
     "execution_count": 27,
     "metadata": {},
     "output_type": "execute_result"
    }
   ],
   "source": [
    "# Trade info\n",
    "psco_trade = client.get_trade(yesterday=True)\n",
    "psco_trade_df = pd.DataFrame(psco_trade)\n",
    "psco_trade_df.head()"
   ]
  },
  {
   "cell_type": "code",
   "execution_count": 28,
   "metadata": {},
   "outputs": [
    {
     "data": {
      "text/html": [
       "<div>\n",
       "<style scoped>\n",
       "    .dataframe tbody tr th:only-of-type {\n",
       "        vertical-align: middle;\n",
       "    }\n",
       "\n",
       "    .dataframe tbody tr th {\n",
       "        vertical-align: top;\n",
       "    }\n",
       "\n",
       "    .dataframe thead th {\n",
       "        text-align: right;\n",
       "    }\n",
       "</style>\n",
       "<table border=\"1\" class=\"dataframe\">\n",
       "  <thead>\n",
       "    <tr style=\"text-align: right;\">\n",
       "      <th></th>\n",
       "      <th>timestamp</th>\n",
       "      <th>gen_MW</th>\n",
       "      <th>load_MW</th>\n",
       "      <th>net_exp_MW</th>\n",
       "    </tr>\n",
       "  </thead>\n",
       "  <tbody>\n",
       "    <tr>\n",
       "      <th>0</th>\n",
       "      <td>2018-05-07 00:00:00+00:00</td>\n",
       "      <td>4726</td>\n",
       "      <td>5010</td>\n",
       "      <td>-284</td>\n",
       "    </tr>\n",
       "    <tr>\n",
       "      <th>1</th>\n",
       "      <td>2018-05-07 01:00:00+00:00</td>\n",
       "      <td>4736</td>\n",
       "      <td>5052</td>\n",
       "      <td>-316</td>\n",
       "    </tr>\n",
       "    <tr>\n",
       "      <th>2</th>\n",
       "      <td>2018-05-07 02:00:00+00:00</td>\n",
       "      <td>4768</td>\n",
       "      <td>5048</td>\n",
       "      <td>-280</td>\n",
       "    </tr>\n",
       "    <tr>\n",
       "      <th>3</th>\n",
       "      <td>2018-05-07 03:00:00+00:00</td>\n",
       "      <td>4861</td>\n",
       "      <td>5133</td>\n",
       "      <td>-272</td>\n",
       "    </tr>\n",
       "    <tr>\n",
       "      <th>4</th>\n",
       "      <td>2018-05-07 04:00:00+00:00</td>\n",
       "      <td>4767</td>\n",
       "      <td>4933</td>\n",
       "      <td>-166</td>\n",
       "    </tr>\n",
       "  </tbody>\n",
       "</table>\n",
       "</div>"
      ],
      "text/plain": [
       "                  timestamp  gen_MW  load_MW  net_exp_MW\n",
       "0 2018-05-07 00:00:00+00:00    4726     5010        -284\n",
       "1 2018-05-07 01:00:00+00:00    4736     5052        -316\n",
       "2 2018-05-07 02:00:00+00:00    4768     5048        -280\n",
       "3 2018-05-07 03:00:00+00:00    4861     5133        -272\n",
       "4 2018-05-07 04:00:00+00:00    4767     4933        -166"
      ]
     },
     "execution_count": 28,
     "metadata": {},
     "output_type": "execute_result"
    }
   ],
   "source": [
    "# Get all into one dataframe\n",
    "gen_sum = psco_gen_df.groupby(['timestamp'], as_index=False).sum()\n",
    "load_sum = psco_load_df.groupby(['timestamp'], as_index=False).sum()\n",
    "trade_sum = psco_trade_df.groupby(['timestamp'], as_index=False).sum()\n",
    "glt = gen_sum.merge(load_sum, on=['timestamp']).merge(trade_sum, on=['timestamp'])\n",
    "glt.head()"
   ]
  },
  {
   "cell_type": "code",
   "execution_count": 40,
   "metadata": {},
   "outputs": [
    {
     "data": {
      "text/html": [
       "<div>\n",
       "<style scoped>\n",
       "    .dataframe tbody tr th:only-of-type {\n",
       "        vertical-align: middle;\n",
       "    }\n",
       "\n",
       "    .dataframe tbody tr th {\n",
       "        vertical-align: top;\n",
       "    }\n",
       "\n",
       "    .dataframe thead th {\n",
       "        text-align: right;\n",
       "    }\n",
       "</style>\n",
       "<table border=\"1\" class=\"dataframe\">\n",
       "  <thead>\n",
       "    <tr style=\"text-align: right;\">\n",
       "      <th></th>\n",
       "      <th>timestamp</th>\n",
       "      <th>variable</th>\n",
       "      <th>value</th>\n",
       "    </tr>\n",
       "  </thead>\n",
       "  <tbody>\n",
       "    <tr>\n",
       "      <th>0</th>\n",
       "      <td>2018-05-07 00:00:00</td>\n",
       "      <td>gen_MW</td>\n",
       "      <td>4726</td>\n",
       "    </tr>\n",
       "    <tr>\n",
       "      <th>1</th>\n",
       "      <td>2018-05-07 01:00:00</td>\n",
       "      <td>gen_MW</td>\n",
       "      <td>4736</td>\n",
       "    </tr>\n",
       "    <tr>\n",
       "      <th>2</th>\n",
       "      <td>2018-05-07 02:00:00</td>\n",
       "      <td>gen_MW</td>\n",
       "      <td>4768</td>\n",
       "    </tr>\n",
       "    <tr>\n",
       "      <th>3</th>\n",
       "      <td>2018-05-07 03:00:00</td>\n",
       "      <td>gen_MW</td>\n",
       "      <td>4861</td>\n",
       "    </tr>\n",
       "    <tr>\n",
       "      <th>4</th>\n",
       "      <td>2018-05-07 04:00:00</td>\n",
       "      <td>gen_MW</td>\n",
       "      <td>4767</td>\n",
       "    </tr>\n",
       "  </tbody>\n",
       "</table>\n",
       "</div>"
      ],
      "text/plain": [
       "            timestamp variable  value\n",
       "0 2018-05-07 00:00:00   gen_MW   4726\n",
       "1 2018-05-07 01:00:00   gen_MW   4736\n",
       "2 2018-05-07 02:00:00   gen_MW   4768\n",
       "3 2018-05-07 03:00:00   gen_MW   4861\n",
       "4 2018-05-07 04:00:00   gen_MW   4767"
      ]
     },
     "execution_count": 40,
     "metadata": {},
     "output_type": "execute_result"
    }
   ],
   "source": [
    "glt_rs = pd.melt(glt, id_vars=['timestamp'],value_vars=['gen_MW','load_MW','net_exp_MW'])\n",
    "glt_rs.head()"
   ]
  },
  {
   "cell_type": "code",
   "execution_count": 42,
   "metadata": {
    "scrolled": true
   },
   "outputs": [
    {
     "data": {
      "text/html": [
       "<div>\n",
       "<style scoped>\n",
       "    .dataframe tbody tr th:only-of-type {\n",
       "        vertical-align: middle;\n",
       "    }\n",
       "\n",
       "    .dataframe tbody tr th {\n",
       "        vertical-align: top;\n",
       "    }\n",
       "\n",
       "    .dataframe thead th {\n",
       "        text-align: right;\n",
       "    }\n",
       "</style>\n",
       "<table border=\"1\" class=\"dataframe\">\n",
       "  <thead>\n",
       "    <tr style=\"text-align: right;\">\n",
       "      <th></th>\n",
       "      <th>value</th>\n",
       "    </tr>\n",
       "    <tr>\n",
       "      <th>variable</th>\n",
       "      <th></th>\n",
       "    </tr>\n",
       "  </thead>\n",
       "  <tbody>\n",
       "    <tr>\n",
       "      <th>gen_MW</th>\n",
       "      <td>102422</td>\n",
       "    </tr>\n",
       "    <tr>\n",
       "      <th>load_MW</th>\n",
       "      <td>110266</td>\n",
       "    </tr>\n",
       "    <tr>\n",
       "      <th>net_exp_MW</th>\n",
       "      <td>-7844</td>\n",
       "    </tr>\n",
       "  </tbody>\n",
       "</table>\n",
       "</div>"
      ],
      "text/plain": [
       "             value\n",
       "variable          \n",
       "gen_MW      102422\n",
       "load_MW     110266\n",
       "net_exp_MW   -7844"
      ]
     },
     "execution_count": 42,
     "metadata": {},
     "output_type": "execute_result"
    }
   ],
   "source": [
    "glt_rs.groupby('variable').sum()"
   ]
  },
  {
   "cell_type": "code",
   "execution_count": 43,
   "metadata": {},
   "outputs": [
    {
     "data": {
      "image/png": "[encoded data removed]",
      "text/plain": [
       "<Figure size 640x480 with 1 Axes>"
      ]
     },
     "metadata": {},
     "output_type": "display_data"
    },
    {
     "data": {
      "text/plain": [
       "<ggplot: (293280218)>"
      ]
     },
     "execution_count": 43,
     "metadata": {},
     "output_type": "execute_result"
    }
   ],
   "source": [
    "(pn.ggplot(glt_rs, pn.aes('timestamp','value', color='variable'))) + pn.geom_line()"
   ]
  },
  {
   "cell_type": "code",
   "execution_count": 54,
   "metadata": {},
   "outputs": [
    {
     "data": {
      "text/html": [
       "<div>\n",
       "<style scoped>\n",
       "    .dataframe tbody tr th:only-of-type {\n",
       "        vertical-align: middle;\n",
       "    }\n",
       "\n",
       "    .dataframe tbody tr th {\n",
       "        vertical-align: top;\n",
       "    }\n",
       "\n",
       "    .dataframe thead th {\n",
       "        text-align: right;\n",
       "    }\n",
       "</style>\n",
       "<table border=\"1\" class=\"dataframe\">\n",
       "  <thead>\n",
       "    <tr style=\"text-align: right;\">\n",
       "      <th></th>\n",
       "      <th>fuel_name</th>\n",
       "      <th>gen_MW</th>\n",
       "      <th>PCT</th>\n",
       "    </tr>\n",
       "  </thead>\n",
       "  <tbody>\n",
       "    <tr>\n",
       "      <th>0</th>\n",
       "      <td>other</td>\n",
       "      <td>102422</td>\n",
       "      <td>100.0</td>\n",
       "    </tr>\n",
       "  </tbody>\n",
       "</table>\n",
       "</div>"
      ],
      "text/plain": [
       "  fuel_name  gen_MW    PCT\n",
       "0     other  102422  100.0"
      ]
     },
     "execution_count": 54,
     "metadata": {},
     "output_type": "execute_result"
    }
   ],
   "source": [
    "psco1 = psco_gen_df.groupby('fuel_name').sum().reset_index()\n",
    "psco1['PCT'] = 100*psco1['gen_MW'] / psco1['gen_MW'].sum()\n",
    "psco1.head()"
   ]
  },
  {
   "cell_type": "code",
   "execution_count": 76,
   "metadata": {},
   "outputs": [
    {
     "data": {
      "text/html": [
       "<div>\n",
       "<style scoped>\n",
       "    .dataframe tbody tr th:only-of-type {\n",
       "        vertical-align: middle;\n",
       "    }\n",
       "\n",
       "    .dataframe tbody tr th {\n",
       "        vertical-align: top;\n",
       "    }\n",
       "\n",
       "    .dataframe thead th {\n",
       "        text-align: right;\n",
       "    }\n",
       "</style>\n",
       "<table border=\"1\" class=\"dataframe\">\n",
       "  <thead>\n",
       "    <tr style=\"text-align: right;\">\n",
       "      <th></th>\n",
       "      <th>ba_name</th>\n",
       "      <th>freq</th>\n",
       "      <th>load_MW</th>\n",
       "      <th>market</th>\n",
       "      <th>timestamp</th>\n",
       "    </tr>\n",
       "  </thead>\n",
       "  <tbody>\n",
       "    <tr>\n",
       "      <th>0</th>\n",
       "      <td>PSCO</td>\n",
       "      <td>1hr</td>\n",
       "      <td>5904</td>\n",
       "      <td>RTHR</td>\n",
       "      <td>2018-05-08 22:00:00+00:00</td>\n",
       "    </tr>\n",
       "    <tr>\n",
       "      <th>1</th>\n",
       "      <td>PSCO</td>\n",
       "      <td>1hr</td>\n",
       "      <td>5242</td>\n",
       "      <td>RTHR</td>\n",
       "      <td>2018-05-08 21:00:00+00:00</td>\n",
       "    </tr>\n",
       "    <tr>\n",
       "      <th>2</th>\n",
       "      <td>PSCO</td>\n",
       "      <td>1hr</td>\n",
       "      <td>5173</td>\n",
       "      <td>RTHR</td>\n",
       "      <td>2018-05-08 20:00:00+00:00</td>\n",
       "    </tr>\n",
       "    <tr>\n",
       "      <th>3</th>\n",
       "      <td>PSCO</td>\n",
       "      <td>1hr</td>\n",
       "      <td>5035</td>\n",
       "      <td>RTHR</td>\n",
       "      <td>2018-05-08 19:00:00+00:00</td>\n",
       "    </tr>\n",
       "    <tr>\n",
       "      <th>4</th>\n",
       "      <td>PSCO</td>\n",
       "      <td>1hr</td>\n",
       "      <td>4966</td>\n",
       "      <td>RTHR</td>\n",
       "      <td>2018-05-08 18:00:00+00:00</td>\n",
       "    </tr>\n",
       "  </tbody>\n",
       "</table>\n",
       "</div>"
      ],
      "text/plain": [
       "  ba_name freq  load_MW market                 timestamp\n",
       "0    PSCO  1hr     5904   RTHR 2018-05-08 22:00:00+00:00\n",
       "1    PSCO  1hr     5242   RTHR 2018-05-08 21:00:00+00:00\n",
       "2    PSCO  1hr     5173   RTHR 2018-05-08 20:00:00+00:00\n",
       "3    PSCO  1hr     5035   RTHR 2018-05-08 19:00:00+00:00\n",
       "4    PSCO  1hr     4966   RTHR 2018-05-08 18:00:00+00:00"
      ]
     },
     "execution_count": 76,
     "metadata": {},
     "output_type": "execute_result"
    }
   ],
   "source": [
    "df = pd.DataFrame(client.get_load(forecast=True))\n",
    "df.head()"
   ]
  },
  {
   "cell_type": "code",
   "execution_count": 77,
   "metadata": {},
   "outputs": [
    {
     "data": {
      "text/html": [
       "<div>\n",
       "<style scoped>\n",
       "    .dataframe tbody tr th:only-of-type {\n",
       "        vertical-align: middle;\n",
       "    }\n",
       "\n",
       "    .dataframe tbody tr th {\n",
       "        vertical-align: top;\n",
       "    }\n",
       "\n",
       "    .dataframe thead th {\n",
       "        text-align: right;\n",
       "    }\n",
       "</style>\n",
       "<table border=\"1\" class=\"dataframe\">\n",
       "  <thead>\n",
       "    <tr style=\"text-align: right;\">\n",
       "      <th></th>\n",
       "      <th>load_MW</th>\n",
       "    </tr>\n",
       "    <tr>\n",
       "      <th>timestamp</th>\n",
       "      <th></th>\n",
       "    </tr>\n",
       "  </thead>\n",
       "  <tbody>\n",
       "    <tr>\n",
       "      <th>2015-07-01 07:00:00+00:00</th>\n",
       "      <td>4875</td>\n",
       "    </tr>\n",
       "    <tr>\n",
       "      <th>2015-07-01 08:00:00+00:00</th>\n",
       "      <td>4618</td>\n",
       "    </tr>\n",
       "    <tr>\n",
       "      <th>2015-07-01 09:00:00+00:00</th>\n",
       "      <td>4427</td>\n",
       "    </tr>\n",
       "    <tr>\n",
       "      <th>2015-07-01 10:00:00+00:00</th>\n",
       "      <td>4344</td>\n",
       "    </tr>\n",
       "    <tr>\n",
       "      <th>2015-07-01 11:00:00+00:00</th>\n",
       "      <td>4374</td>\n",
       "    </tr>\n",
       "  </tbody>\n",
       "</table>\n",
       "</div>"
      ],
      "text/plain": [
       "                           load_MW\n",
       "timestamp                         \n",
       "2015-07-01 07:00:00+00:00     4875\n",
       "2015-07-01 08:00:00+00:00     4618\n",
       "2015-07-01 09:00:00+00:00     4427\n",
       "2015-07-01 10:00:00+00:00     4344\n",
       "2015-07-01 11:00:00+00:00     4374"
      ]
     },
     "execution_count": 77,
     "metadata": {},
     "output_type": "execute_result"
    }
   ],
   "source": [
    "df1 = df.groupby('timestamp').sum()\n",
    "df1.head()"
   ]
  },
  {
   "cell_type": "code",
   "execution_count": 78,
   "metadata": {},
   "outputs": [
    {
     "data": {
      "text/html": [
       "<div>\n",
       "<style scoped>\n",
       "    .dataframe tbody tr th:only-of-type {\n",
       "        vertical-align: middle;\n",
       "    }\n",
       "\n",
       "    .dataframe tbody tr th {\n",
       "        vertical-align: top;\n",
       "    }\n",
       "\n",
       "    .dataframe thead th {\n",
       "        text-align: right;\n",
       "    }\n",
       "</style>\n",
       "<table border=\"1\" class=\"dataframe\">\n",
       "  <thead>\n",
       "    <tr style=\"text-align: right;\">\n",
       "      <th></th>\n",
       "      <th>load_MW</th>\n",
       "    </tr>\n",
       "    <tr>\n",
       "      <th>timestamp</th>\n",
       "      <th></th>\n",
       "    </tr>\n",
       "  </thead>\n",
       "  <tbody>\n",
       "    <tr>\n",
       "      <th>2015-07-01 07:00:00+00:00</th>\n",
       "      <td>NaN</td>\n",
       "    </tr>\n",
       "    <tr>\n",
       "      <th>2015-07-01 08:00:00+00:00</th>\n",
       "      <td>-257.0</td>\n",
       "    </tr>\n",
       "    <tr>\n",
       "      <th>2015-07-01 09:00:00+00:00</th>\n",
       "      <td>-191.0</td>\n",
       "    </tr>\n",
       "    <tr>\n",
       "      <th>2015-07-01 10:00:00+00:00</th>\n",
       "      <td>-83.0</td>\n",
       "    </tr>\n",
       "    <tr>\n",
       "      <th>2015-07-01 11:00:00+00:00</th>\n",
       "      <td>30.0</td>\n",
       "    </tr>\n",
       "  </tbody>\n",
       "</table>\n",
       "</div>"
      ],
      "text/plain": [
       "                           load_MW\n",
       "timestamp                         \n",
       "2015-07-01 07:00:00+00:00      NaN\n",
       "2015-07-01 08:00:00+00:00   -257.0\n",
       "2015-07-01 09:00:00+00:00   -191.0\n",
       "2015-07-01 10:00:00+00:00    -83.0\n",
       "2015-07-01 11:00:00+00:00     30.0"
      ]
     },
     "execution_count": 78,
     "metadata": {},
     "output_type": "execute_result"
    }
   ],
   "source": [
    "tmp = df1.diff()\n",
    "tmp.head()"
   ]
  },
  {
   "cell_type": "code",
   "execution_count": 79,
   "metadata": {},
   "outputs": [
    {
     "data": {
      "text/plain": [
       "<matplotlib.axes._subplots.AxesSubplot at 0x11a3c7ac8>"
      ]
     },
     "execution_count": 79,
     "metadata": {},
     "output_type": "execute_result"
    },
    {
     "data": {
      "image/png": "[encoded data removed]",
      "text/plain": [
       "<Figure size 432x288 with 1 Axes>"
      ]
     },
     "metadata": {},
     "output_type": "display_data"
    }
   ],
   "source": [
    "tmp.plot()"
   ]
  },
  {
   "cell_type": "code",
   "execution_count": null,
   "metadata": {},
   "outputs": [],
   "source": []
  },
  {
   "cell_type": "code",
   "execution_count": null,
   "metadata": {},
   "outputs": [],
   "source": []
  },
  {
   "cell_type": "code",
   "execution_count": null,
   "metadata": {},
   "outputs": [],
   "source": []
  },
  {
   "cell_type": "code",
   "execution_count": 16,
   "metadata": {},
   "outputs": [],
   "source": []
  },
  {
   "cell_type": "code",
   "execution_count": null,
   "metadata": {},
   "outputs": [],
   "source": [
    "\n"
   ]
  },
  {
   "cell_type": "code",
   "execution_count": null,
   "metadata": {},
   "outputs": [],
   "source": []
  },
  {
   "cell_type": "code",
   "execution_count": null,
   "metadata": {},
   "outputs": [],
   "source": []
  },
  {
   "cell_type": "code",
   "execution_count": null,
   "metadata": {},
   "outputs": [],
   "source": []
  },
  {
   "cell_type": "code",
   "execution_count": null,
   "metadata": {},
   "outputs": [],
   "source": []
  },
  {
   "cell_type": "code",
   "execution_count": null,
   "metadata": {
    "collapsed": true
   },
   "outputs": [],
   "source": [
    "# https://pyiso.readthedocs.io/en/latest/intro.html\n",
    "# https://www.eia.gov/realtime_grid/docs/userguideandknownissues.pdf (timezones)\n",
    "eia_values = ['AEC', 'AECI', 'AESO', 'AVA', 'AZPS', 'BANC', 'BCTC',\n",
    "               'BPAT', 'CISO', 'CFE', 'CHPD', 'CISO', 'CPLE', 'CPLW',\n",
    "               'DEAA', 'DOPD', 'DUK', 'EEI', 'EPE', 'ERCO', 'FMPP',\n",
    "               'FPC', 'FPL', 'GCPD', 'GRID', 'GRIF', 'GRMA', 'GVL',\n",
    "               'GWA', 'HGMA', 'HQT', 'HST', 'IESO', 'IID', 'IPCO',\n",
    "               'ISNE', 'JEA', 'LDWP', 'LGEE', 'MHEB', 'MISO', 'NBSO',\n",
    "               'NEVP', 'NSB', 'NWMT', 'NYIS', 'OVEC', 'PACE', 'PACW',\n",
    "               'PGE', 'PJM', 'PNM', 'PSCO', 'PSEI', 'SC', 'SCEG',\n",
    "               'SCL', 'SEC', 'SEPA', 'SOCO', 'SPA', 'SPC', 'SRP',\n",
    "               'SWPP', 'TAL', 'TEC', 'TEPC', 'TIDC', 'TPWR', 'TVA',\n",
    "               'WACM', 'WALC', 'WAUW', 'WWA', 'YAD']"
   ]
  }
 ],
 "metadata": {
  "kernelspec": {
   "display_name": "Python 3",
   "language": "python",
   "name": "python3"
  },
  "language_info": {
   "codemirror_mode": {
    "name": "ipython",
    "version": 3
   },
   "file_extension": ".py",
   "mimetype": "text/x-python",
   "name": "python",
   "nbconvert_exporter": "python",
   "pygments_lexer": "ipython3",
   "version": "3.6.2"
  }
 },
 "nbformat": 4,
 "nbformat_minor": 2
}
